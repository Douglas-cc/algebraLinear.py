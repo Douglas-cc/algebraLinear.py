{
 "cells": [
  {
   "cell_type": "code",
   "execution_count": 41,
   "metadata": {},
   "outputs": [],
   "source": [
    "from vetor import Vetor"
   ]
  },
  {
   "source": [
    "# Produto escalar do vetores"
   ],
   "cell_type": "markdown",
   "metadata": {}
  },
  {
   "cell_type": "code",
   "execution_count": 42,
   "metadata": {},
   "outputs": [
    {
     "output_type": "stream",
     "name": "stdout",
     "text": [
      "7\n"
     ]
    }
   ],
   "source": [
    "u = Vetor([2,3,1])\n",
    "v = Vetor([4,-2, 5])\n",
    "print(u.pdt_escalar_vt(v))"
   ]
  },
  {
   "source": [
    "# Vetor Ortogonal"
   ],
   "cell_type": "markdown",
   "metadata": {}
  },
  {
   "cell_type": "code",
   "execution_count": 43,
   "metadata": {},
   "outputs": [
    {
     "output_type": "stream",
     "name": "stdout",
     "text": [
      "True\n"
     ]
    }
   ],
   "source": [
    "u = Vetor([13,1,-5])\n",
    "v = Vetor([3,-4, 7])\n",
    "print(u.vt_ortagonal(v))"
   ]
  },
  {
   "source": [
    "# Vetor Paralelo"
   ],
   "cell_type": "markdown",
   "metadata": {}
  },
  {
   "cell_type": "code",
   "execution_count": 8,
   "metadata": {},
   "outputs": [
    {
     "output_type": "stream",
     "name": "stdout",
     "text": [
      "False\n"
     ]
    }
   ],
   "source": [
    "u = Vetor([3,4])\n",
    "v = Vetor([1,12])\n",
    "print(u.vt_paralelo(v))"
   ]
  },
  {
   "source": [
    "# Angulo do vetor"
   ],
   "cell_type": "markdown",
   "metadata": {}
  },
  {
   "cell_type": "code",
   "execution_count": 47,
   "metadata": {},
   "outputs": [
    {
     "output_type": "stream",
     "name": "stdout",
     "text": [
      "56.63363399894044\n"
     ]
    }
   ],
   "source": [
    "u = Vetor([3,9])\n",
    "v = Vetor([45,12])\n",
    "print(u.angulo_vt(v))"
   ]
  },
  {
   "source": [
    "# TERCEIRA QUESTÃO DA AP2 DE ALGEBRA LINEAR E GEOMETRIA ANALITICA"
   ],
   "cell_type": "markdown",
   "metadata": {}
  },
  {
   "cell_type": "code",
   "execution_count": 48,
   "metadata": {},
   "outputs": [],
   "source": [
    "from math import pi, acos"
   ]
  },
  {
   "cell_type": "code",
   "execution_count": 50,
   "metadata": {},
   "outputs": [],
   "source": [
    "u = Vetor([3, -5])\n",
    "v = Vetor([-2, 7])"
   ]
  },
  {
   "cell_type": "code",
   "execution_count": 51,
   "metadata": {},
   "outputs": [
    {
     "output_type": "stream",
     "name": "stdout",
     "text": [
      "Vetor: [Decimal('3'), Decimal('-5')]\nVetor: [Decimal('-2'), Decimal('7')]\n"
     ]
    }
   ],
   "source": [
    "print(u)\n",
    "print(v)"
   ]
  },
  {
   "source": [
    "- Calcule a Magnitude dos Vetores"
   ],
   "cell_type": "markdown",
   "metadata": {}
  },
  {
   "cell_type": "code",
   "execution_count": 52,
   "metadata": {},
   "outputs": [
    {
     "output_type": "stream",
     "name": "stdout",
     "text": [
      "5.8309518948453007425314353895373642444610595703125\n7.28010988928051805402219542884267866611480712890625\n"
     ]
    }
   ],
   "source": [
    "magnitude_u = u.magnitude_vt()\n",
    "magnitude_v = v.magnitude_vt()\n",
    "\n",
    "print(magnitude_u)\n",
    "print(magnitude_v)"
   ]
  },
  {
   "source": [
    "- Normalizar o vetores"
   ],
   "cell_type": "markdown",
   "metadata": {}
  },
  {
   "cell_type": "code",
   "execution_count": 53,
   "metadata": {},
   "outputs": [
    {
     "output_type": "stream",
     "name": "stdout",
     "text": [
      "Vetor: [Decimal('0.5144957554275264881661944439'), Decimal('-0.8574929257125441469436574065')]\nVetor: [Decimal('-0.2747211278973780561574494172'), Decimal('0.9615239476408231965510729602')]\n"
     ]
    }
   ],
   "source": [
    "normaliza_u = u.normaliza_vt()\n",
    "normaliza_v = v.normaliza_vt()\n",
    "\n",
    "print(normaliza_u)\n",
    "print(normaliza_v)"
   ]
  },
  {
   "source": [
    "- Calcular o Produto Escalar dos vetores normalizados\n"
   ],
   "cell_type": "markdown",
   "metadata": {}
  },
  {
   "cell_type": "code",
   "execution_count": 56,
   "metadata": {},
   "outputs": [
    {
     "output_type": "execute_result",
     "data": {
      "text/plain": [
       "Decimal('-0.9658428372346682378142390652')"
      ]
     },
     "metadata": {},
     "execution_count": 56
    }
   ],
   "source": [
    "produto_escalar_norm =  normaliza_u.pdt_escalar_vt(normaliza_v)\n",
    "produto_escalar_norm"
   ]
  },
  {
   "source": [
    "- Calcular o arcosseno do produto escalar dos vetores normalizados"
   ],
   "cell_type": "markdown",
   "metadata": {}
  },
  {
   "cell_type": "code",
   "execution_count": 57,
   "metadata": {},
   "outputs": [
    {
     "output_type": "execute_result",
     "data": {
      "text/plain": [
       "2.8794728123243205"
      ]
     },
     "metadata": {},
     "execution_count": 57
    }
   ],
   "source": [
    "angulo_radianos = acos(produto_escalar_norm) # aqui temos o angulo em radianos\n",
    "angulo_radianos"
   ]
  },
  {
   "source": [
    "- Convertemos o angulo de Radianos para graus"
   ],
   "cell_type": "markdown",
   "metadata": {}
  },
  {
   "cell_type": "code",
   "execution_count": 58,
   "metadata": {},
   "outputs": [
    {
     "output_type": "execute_result",
     "data": {
      "text/plain": [
       "164.98163936884933"
      ]
     },
     "metadata": {},
     "execution_count": 58
    }
   ],
   "source": [
    "angulo_radianos * 180/pi"
   ]
  },
  {
   "source": [
    "## Usando o metodo que faz todo os passos anteriores\n"
   ],
   "cell_type": "markdown",
   "metadata": {}
  },
  {
   "cell_type": "code",
   "execution_count": 59,
   "metadata": {},
   "outputs": [
    {
     "output_type": "execute_result",
     "data": {
      "text/plain": [
       "164.98163936884933"
      ]
     },
     "metadata": {},
     "execution_count": 59
    }
   ],
   "source": [
    "u.angulo_vt(v)"
   ]
  }
 ],
 "metadata": {
  "kernelspec": {
   "display_name": "Python 3",
   "language": "python",
   "name": "python3"
  },
  "language_info": {
   "codemirror_mode": {
    "name": "ipython",
    "version": 3
   },
   "file_extension": ".py",
   "mimetype": "text/x-python",
   "name": "python",
   "nbconvert_exporter": "python",
   "pygments_lexer": "ipython3",
   "version": "3.8.6"
  }
 },
 "nbformat": 4,
 "nbformat_minor": 4
}